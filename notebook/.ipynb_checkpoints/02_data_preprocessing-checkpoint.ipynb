{
 "cells": [
  {
   "cell_type": "markdown",
   "id": "6f1abdc7-99a4-4b6b-9984-d6465cf36a8d",
   "metadata": {},
   "source": [
    "# Import libraries"
   ]
  },
  {
   "cell_type": "code",
   "execution_count": 1,
   "id": "55bd5a73-8f02-4f2e-8c1d-eb8c9ca29462",
   "metadata": {},
   "outputs": [],
   "source": [
    "import pandas as pd\n",
    "import numpy as np\n",
    "import matplotlib.pyplot as plt\n",
    "import seaborn as sns\n",
    "import warnings\n",
    "warnings.filterwarnings('ignore')"
   ]
  },
  {
   "cell_type": "markdown",
   "id": "56fe6778-b6db-43a0-8704-265c93d4fd58",
   "metadata": {},
   "source": [
    "# Read file"
   ]
  },
  {
   "cell_type": "code",
   "execution_count": 2,
   "id": "4aee2132-01ff-4870-916b-cf4a0560ef48",
   "metadata": {},
   "outputs": [],
   "source": [
    "df = pd.read_csv('.\\data\\credit.csv')\n",
    "data = df.copy()"
   ]
  },
  {
   "cell_type": "code",
   "execution_count": 3,
   "id": "08c2df45-93ec-469b-946e-27b502fba714",
   "metadata": {},
   "outputs": [],
   "source": [
    "categorical_cols = data.select_dtypes('object').columns\n",
    "numeric_cols = [col for col in data.columns if col not in categorical_cols]"
   ]
  },
  {
   "cell_type": "markdown",
   "id": "f242476b-89e3-49ca-a388-07db96453a58",
   "metadata": {},
   "source": [
    "### Preprocessing"
   ]
  },
  {
   "cell_type": "code",
   "execution_count": 4,
   "id": "3048d4eb-8a67-417c-a6ac-b690d1dd39b5",
   "metadata": {},
   "outputs": [],
   "source": [
    "data['purpose'] = data['purpose'].str.replace(r'.*car.*', 'car', regex=True)"
   ]
  },
  {
   "cell_type": "markdown",
   "id": "690123b6-41ab-4fe4-bb2e-c9b4f50807ff",
   "metadata": {},
   "source": [
    "# Save data as data table after preprocessing"
   ]
  },
  {
   "cell_type": "code",
   "execution_count": 5,
   "id": "2e8c7656-b923-4c99-bfe3-d62bffa08c23",
   "metadata": {},
   "outputs": [],
   "source": [
    "data.to_csv('.\\data\\data.csv', index=False)"
   ]
  }
 ],
 "metadata": {
  "kernelspec": {
   "display_name": "Python 3 (ipykernel)",
   "language": "python",
   "name": "python3"
  },
  "language_info": {
   "codemirror_mode": {
    "name": "ipython",
    "version": 3
   },
   "file_extension": ".py",
   "mimetype": "text/x-python",
   "name": "python",
   "nbconvert_exporter": "python",
   "pygments_lexer": "ipython3",
   "version": "3.11.6"
  }
 },
 "nbformat": 4,
 "nbformat_minor": 5
}
